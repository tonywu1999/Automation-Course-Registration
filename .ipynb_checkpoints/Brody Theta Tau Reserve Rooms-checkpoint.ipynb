{
 "cells": [
  {
   "cell_type": "code",
   "execution_count": 2,
   "metadata": {
    "collapsed": true
   },
   "outputs": [],
   "source": [
    "# Brody Reserving Room Code Anaconda Notebook\n",
    "# Anthony Wu"
   ]
  },
  {
   "cell_type": "code",
   "execution_count": 1,
   "metadata": {
    "collapsed": true
   },
   "outputs": [],
   "source": [
    "#Import Required Packages\n",
    "\n",
    "from selenium import webdriver"
   ]
  },
  {
   "cell_type": "code",
   "execution_count": null,
   "metadata": {
    "collapsed": true
   },
   "outputs": [],
   "source": [
    "#Going onto chrome\n",
    "\n",
    "driver = webdriver.Chrome()\n",
    "driver.get(\"http://jhu.libcal.com/reserve/blc\")"
   ]
  },
  {
   "cell_type": "code",
   "execution_count": null,
   "metadata": {
    "collapsed": true
   },
   "outputs": [],
   "source": [
    "#Using xpath to click one element first. This is the 8pm room\n",
    "\n",
    "elem = driver.find_element_by_xpath('//*[@id=\"eq-time-grid\"]/div[2]/div/table/tbody/tr/td[3]/div/div/div/div[1]/div/table/tbody/tr[1]/td/div/div/a[26]')\n",
    "elem.click()"
   ]
  },
  {
   "cell_type": "code",
   "execution_count": null,
   "metadata": {
    "collapsed": true
   },
   "outputs": [],
   "source": [
    "#Clicking out of a list:\n",
    "\n",
    "list1=driver.find_element_by_xpath('//*[@id=\"bookingend_1\"]')\n",
    "list1.click()\n",
    "option1=driver.find_element_by_xpath('//*[@id=\"bookingend_1\"]/option[4]')\n",
    "option1.click()"
   ]
  },
  {
   "cell_type": "code",
   "execution_count": null,
   "metadata": {
    "collapsed": true
   },
   "outputs": [],
   "source": [
    "#Finding the button\n",
    "\n",
    "button = driver.find_element_by_id('submit_times')\n",
    "button.click()"
   ]
  },
  {
   "cell_type": "code",
   "execution_count": null,
   "metadata": {
    "collapsed": true
   },
   "outputs": [],
   "source": [
    "#Insert username & password\n",
    "\n",
    "Username='example'\n",
    "Passcode='password1'\n",
    "\n",
    "userID=driver.find_element_by_xpath('//*[@id=\"USER\"]')\n",
    "password=driver.find_element_by_xpath('//*[@id=\"PASSWORD\"]')\n",
    "\n",
    "userID.send_keys(Username)\n",
    "password.send_keys(Passcode)\n"
   ]
  },
  {
   "cell_type": "code",
   "execution_count": null,
   "metadata": {
    "collapsed": true
   },
   "outputs": [],
   "source": [
    "#Login & You Are DONE\n",
    "\n",
    "button2=driver.find_element_by_xpath('//*[@id=\"submit1\"]')\n",
    "button2.click()"
   ]
  },
  {
   "cell_type": "code",
   "execution_count": null,
   "metadata": {
    "collapsed": true
   },
   "outputs": [],
   "source": [
    "#Quit Chrome\n",
    "\n",
    "driver.quit()"
   ]
  }
 ],
 "metadata": {
  "kernelspec": {
   "display_name": "Python 3",
   "language": "python",
   "name": "python3"
  },
  "language_info": {
   "codemirror_mode": {
    "name": "ipython",
    "version": 3
   },
   "file_extension": ".py",
   "mimetype": "text/x-python",
   "name": "python",
   "nbconvert_exporter": "python",
   "pygments_lexer": "ipython3",
   "version": "3.7.3"
  }
 },
 "nbformat": 4,
 "nbformat_minor": 2
}
